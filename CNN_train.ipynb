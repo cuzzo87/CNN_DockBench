{
 "cells": [
  {
   "cell_type": "code",
   "execution_count": 1,
   "metadata": {},
   "outputs": [],
   "source": [
    "%load_ext autoreload\n",
    "%autoreload 2"
   ]
  },
  {
   "cell_type": "code",
   "execution_count": 2,
   "metadata": {},
   "outputs": [],
   "source": [
    "import numpy as np\n",
    "import os\n",
    "from cnndockbench.net import ConvProt, FullNN\n",
    "import torch\n",
    "from cnndockbench.utils import getTensor\n",
    "from torch import nn"
   ]
  },
  {
   "cell_type": "code",
   "execution_count": 3,
   "metadata": {},
   "outputs": [],
   "source": [
    "device = torch.device('cuda:0' if torch.cuda.is_available() else 'cpu')"
   ]
  },
  {
   "cell_type": "code",
   "execution_count": 4,
   "metadata": {},
   "outputs": [],
   "source": [
    "def splitTrainTests(prots, ligs, corrVal, ratio=0.8):\n",
    "    idxs = np.arange(prots.shape[0])\n",
    "    np.random.shuffle(idxs)\n",
    "    train_samples = int(prots.shape[0] * 0.8)\n",
    "    test_samples = prots.shape[0] - train_samples\n",
    "    print(\"Number of train samples: \", train_samples)\n",
    "    print('Number of test samples: ', test_samples)\n",
    "    prots_test_train = [prots[:train_samples], prots[train_samples:]]\n",
    "    ligs_test_train = [ligs[:train_samples], ligs[train_samples:]]\n",
    "    corrVal_test_train = [corrVal[:train_samples], corrVal[train_samples:]]\n",
    "    \n",
    "    return prots_test_train, ligs_test_train, corrVal_test_train\n",
    "    \n",
    "    "
   ]
  },
  {
   "cell_type": "code",
   "execution_count": 5,
   "metadata": {},
   "outputs": [],
   "source": [
    "# load arrays\n",
    "prots = np.load(os.path.join('data', 'protFeats.npy'))\n",
    "ligs = np.load(os.path.join('data', 'ligFeats.npy'))\n",
    "corrVal = np.load(os.path.join('data', 'correctValues.npy'))"
   ]
  },
  {
   "cell_type": "code",
   "execution_count": 6,
   "metadata": {},
   "outputs": [
    {
     "data": {
      "text/plain": [
       "((199, 24, 24, 24, 7), (199, 1024), (199, 3, 17))"
      ]
     },
     "execution_count": 6,
     "metadata": {},
     "output_type": "execute_result"
    }
   ],
   "source": [
    "prots.shape, ligs.shape, corrVal.shape"
   ]
  },
  {
   "cell_type": "code",
   "execution_count": 7,
   "metadata": {},
   "outputs": [
    {
     "name": "stdout",
     "output_type": "stream",
     "text": [
      "Number of train samples:  159\n",
      "Number of test samples:  40\n"
     ]
    }
   ],
   "source": [
    "protsSplits, ligsSplits, corrValSplits = splitTrainTests(prots, ligs, corrVal)"
   ]
  },
  {
   "cell_type": "code",
   "execution_count": 16,
   "metadata": {},
   "outputs": [
    {
     "data": {
      "text/plain": [
       "(159, 1024)"
      ]
     },
     "execution_count": 16,
     "metadata": {},
     "output_type": "execute_result"
    }
   ],
   "source": [
    "ligsSplits[0].shape"
   ]
  },
  {
   "cell_type": "markdown",
   "metadata": {},
   "source": [
    "## Train"
   ]
  },
  {
   "cell_type": "code",
   "execution_count": 8,
   "metadata": {},
   "outputs": [],
   "source": [
    "prots_train = protsSplits[0]\n",
    "ligs_train = ligsSplits[0]\n",
    "corrVal_train = corrValSplits[0]"
   ]
  },
  {
   "cell_type": "code",
   "execution_count": 9,
   "metadata": {},
   "outputs": [],
   "source": [
    "modelProt = ConvProt().to(device)"
   ]
  },
  {
   "cell_type": "code",
   "execution_count": 10,
   "metadata": {},
   "outputs": [],
   "source": [
    "modelComples = FullNN().to(device)"
   ]
  },
  {
   "cell_type": "code",
   "execution_count": 27,
   "metadata": {},
   "outputs": [],
   "source": [
    "criterion1 = nn.MSELoss()\n",
    "criterion2 = nn.MSELoss()\n",
    "criterion3 = nn.PoissonNLLLoss()"
   ]
  },
  {
   "cell_type": "code",
   "execution_count": 32,
   "metadata": {},
   "outputs": [
    {
     "name": "stdout",
     "output_type": "stream",
     "text": [
      "Epoch [1/25], Step [10/159], Loss: nan\n",
      "Epoch [1/25], Step [20/159], Loss: nan\n",
      "Epoch [1/25], Step [30/159], Loss: nan\n",
      "Epoch [1/25], Step [40/159], Loss: nan\n",
      "Epoch [1/25], Step [50/159], Loss: nan\n",
      "Epoch [1/25], Step [60/159], Loss: nan\n",
      "Epoch [1/25], Step [70/159], Loss: nan\n",
      "Epoch [1/25], Step [80/159], Loss: nan\n",
      "Epoch [1/25], Step [90/159], Loss: nan\n",
      "Epoch [1/25], Step [100/159], Loss: nan\n",
      "Epoch [1/25], Step [110/159], Loss: nan\n",
      "Epoch [1/25], Step [120/159], Loss: nan\n",
      "Epoch [1/25], Step [130/159], Loss: nan\n",
      "Epoch [1/25], Step [140/159], Loss: nan\n",
      "Epoch [1/25], Step [150/159], Loss: nan\n",
      "Epoch [2/25], Step [10/159], Loss: nan\n",
      "Epoch [2/25], Step [20/159], Loss: nan\n",
      "Epoch [2/25], Step [30/159], Loss: nan\n",
      "Epoch [2/25], Step [40/159], Loss: nan\n",
      "Epoch [2/25], Step [50/159], Loss: nan\n",
      "Epoch [2/25], Step [60/159], Loss: nan\n",
      "Epoch [2/25], Step [70/159], Loss: nan\n",
      "Epoch [2/25], Step [80/159], Loss: nan\n"
     ]
    },
    {
     "ename": "KeyboardInterrupt",
     "evalue": "",
     "output_type": "error",
     "traceback": [
      "\u001b[0;31m---------------------------------------------------------------------------\u001b[0m",
      "\u001b[0;31mKeyboardInterrupt\u001b[0m                         Traceback (most recent call last)",
      "\u001b[0;32m<ipython-input-32-987b767cdd58>\u001b[0m in \u001b[0;36m<module>\u001b[0;34m\u001b[0m\n\u001b[1;32m      5\u001b[0m     \u001b[0;32mfor\u001b[0m \u001b[0mi\u001b[0m\u001b[0;34m,\u001b[0m \u001b[0;34m(\u001b[0m\u001b[0mp\u001b[0m\u001b[0;34m,\u001b[0m\u001b[0ml\u001b[0m\u001b[0;34m,\u001b[0m \u001b[0mc\u001b[0m\u001b[0;34m)\u001b[0m \u001b[0;32min\u001b[0m \u001b[0menumerate\u001b[0m\u001b[0;34m(\u001b[0m\u001b[0mzip\u001b[0m\u001b[0;34m(\u001b[0m\u001b[0mprots_train\u001b[0m\u001b[0;34m,\u001b[0m \u001b[0mligs_train\u001b[0m\u001b[0;34m,\u001b[0m \u001b[0mcorrVal_train\u001b[0m\u001b[0;34m)\u001b[0m\u001b[0;34m)\u001b[0m\u001b[0;34m:\u001b[0m\u001b[0;34m\u001b[0m\u001b[0m\n\u001b[1;32m      6\u001b[0m         \u001b[0mp\u001b[0m \u001b[0;34m=\u001b[0m \u001b[0mp\u001b[0m\u001b[0;34m.\u001b[0m\u001b[0mreshape\u001b[0m\u001b[0;34m(\u001b[0m\u001b[0;36m7\u001b[0m\u001b[0;34m,\u001b[0m\u001b[0;36m24\u001b[0m\u001b[0;34m,\u001b[0m\u001b[0;36m24\u001b[0m\u001b[0;34m,\u001b[0m\u001b[0;36m24\u001b[0m\u001b[0;34m)\u001b[0m\u001b[0;34m\u001b[0m\u001b[0m\n\u001b[0;32m----> 7\u001b[0;31m         \u001b[0mtp\u001b[0m \u001b[0;34m=\u001b[0m \u001b[0mgetTensor\u001b[0m\u001b[0;34m(\u001b[0m\u001b[0mp\u001b[0m\u001b[0;34m,\u001b[0m \u001b[0;34m'float32'\u001b[0m\u001b[0;34m,\u001b[0m \u001b[0mdevice\u001b[0m\u001b[0;34m)\u001b[0m\u001b[0;34m\u001b[0m\u001b[0m\n\u001b[0m\u001b[1;32m      8\u001b[0m         \u001b[0mtp\u001b[0m \u001b[0;34m=\u001b[0m \u001b[0mtp\u001b[0m\u001b[0;34m.\u001b[0m\u001b[0munsqueeze\u001b[0m\u001b[0;34m(\u001b[0m\u001b[0;36m0\u001b[0m\u001b[0;34m)\u001b[0m\u001b[0;34m\u001b[0m\u001b[0m\n\u001b[1;32m      9\u001b[0m \u001b[0;34m\u001b[0m\u001b[0m\n",
      "\u001b[0;32m~/Softwares/Github/CNN_DockBench/cnndockbench/utils.py\u001b[0m in \u001b[0;36mgetTensor\u001b[0;34m(narray, atype, device)\u001b[0m\n\u001b[1;32m     14\u001b[0m \u001b[0;34m\u001b[0m\u001b[0m\n\u001b[1;32m     15\u001b[0m     \u001b[0mt\u001b[0m \u001b[0;34m=\u001b[0m \u001b[0mtorch\u001b[0m\u001b[0;34m.\u001b[0m\u001b[0mfrom_numpy\u001b[0m\u001b[0;34m(\u001b[0m\u001b[0mnarray\u001b[0m\u001b[0;34m)\u001b[0m\u001b[0;34m\u001b[0m\u001b[0m\n\u001b[0;32m---> 16\u001b[0;31m     \u001b[0;32mreturn\u001b[0m  \u001b[0mt\u001b[0m\u001b[0;34m.\u001b[0m\u001b[0mto\u001b[0m\u001b[0;34m(\u001b[0m\u001b[0mdevice\u001b[0m\u001b[0;34m)\u001b[0m\u001b[0;34m\u001b[0m\u001b[0m\n\u001b[0m",
      "\u001b[0;31mKeyboardInterrupt\u001b[0m: "
     ]
    }
   ],
   "source": [
    "numEpochs = 25\n",
    "learning_rate = 0.001\n",
    "optimizer = torch.optim.Adam(modelComples.parameters(), lr=learning_rate)\n",
    "for epoch in range(numEpochs):\n",
    "    for i, (p,l, c) in enumerate(zip(prots_train, ligs_train, corrVal_train)):\n",
    "        p = p.reshape(7,24,24,24)\n",
    "        tp = getTensor(p, 'float32', device)\n",
    "        tp = tp.unsqueeze(0)\n",
    "\n",
    "        l = np.array(list(l)).reshape(1, 1024)\n",
    "        tl = getTensor(l, 'float32', device)\n",
    "        \n",
    "        out = modelProt(tp)\n",
    "        \n",
    "        o1,o2,o3 = modelComples(tl, out)\n",
    "        \n",
    "        L1 = torch.from_numpy(c[0, :].astype('float32').reshape(1, 17)).to(device)\n",
    "        L2 = torch.from_numpy(c[1, :].astype('float32').reshape(1, 17)).to(device)\n",
    "        L3 = torch.from_numpy(c[2, :].astype('float32').reshape(1, 17)).to(device)\n",
    "\n",
    "        loss1 = criterion1(o1, L1)\n",
    "        loss2 = criterion2(o2, L2)\n",
    "        loss3 = criterion3(o3, L3)\n",
    "        \n",
    "        loss = loss1 + loss2 + loss3\n",
    "        \n",
    "        optimizer.zero_grad()\n",
    "        loss.backward()\n",
    "        optimizer.step()\n",
    "        \n",
    "        if (i+1) % 10 == 0:\n",
    "            print('Epoch [{}/{}], Step [{}/{}], Loss: {:.4f}'.format(epoch+1, numEpochs, \n",
    "                                                                     i+1, ligs_train.shape[0],\n",
    "                                                                    loss.item()) )\n",
    "        "
   ]
  },
  {
   "cell_type": "code",
   "execution_count": null,
   "metadata": {},
   "outputs": [],
   "source": []
  }
 ],
 "metadata": {
  "kernelspec": {
   "display_name": "Python 3",
   "language": "python",
   "name": "python3"
  },
  "language_info": {
   "codemirror_mode": {
    "name": "ipython",
    "version": 3
   },
   "file_extension": ".py",
   "mimetype": "text/x-python",
   "name": "python",
   "nbconvert_exporter": "python",
   "pygments_lexer": "ipython3",
   "version": "3.6.6"
  }
 },
 "nbformat": 4,
 "nbformat_minor": 2
}
